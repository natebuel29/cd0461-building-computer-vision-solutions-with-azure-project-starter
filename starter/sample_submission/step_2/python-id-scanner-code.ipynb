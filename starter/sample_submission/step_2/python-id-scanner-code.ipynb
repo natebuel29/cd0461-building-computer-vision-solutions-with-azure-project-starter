{
 "cells": [
  {
   "cell_type": "markdown",
   "metadata": {},
   "source": [
    "# Step 1 - Using Form Recognizer ID's API to extract information from Digital ID"
   ]
  },
  {
   "cell_type": "code",
   "execution_count": 30,
   "metadata": {},
   "outputs": [],
   "source": [
    "! activate ai-azure-c1\n",
    "\n",
    "import sys\n",
    "\n",
    "sys.path.append(\"/opt/conda/envs/ai-azure-c1/lib/python3.8/site-packages\")"
   ]
  },
  {
   "cell_type": "code",
   "execution_count": 31,
   "metadata": {},
   "outputs": [],
   "source": [
    "from azure.core.credentials import AzureKeyCredential\n",
    "from azure.ai.formrecognizer import FormRecognizerClient"
   ]
  },
  {
   "cell_type": "code",
   "execution_count": 32,
   "metadata": {},
   "outputs": [],
   "source": [
    "endpoint = \"https://udacity-form-recognizer.cognitiveservices.azure.com/\"\n",
    "key = \"62bb6572766845bc8cf5a5c386ae3542\""
   ]
  },
  {
   "cell_type": "code",
   "execution_count": 33,
   "metadata": {},
   "outputs": [],
   "source": [
    "form_recognizer_client = FormRecognizerClient(endpoint=endpoint, credential=AzureKeyCredential(key))"
   ]
  },
  {
   "cell_type": "code",
   "execution_count": 34,
   "metadata": {},
   "outputs": [],
   "source": [
    "content_url_list =[\n",
    "   \"https://raw.githubusercontent.com/natebuel29/cd0461-building-computer-vision-solutions-with-azure-project-starter/master/starter/digital_id_template/ca-dl-avkash-chauhan.png\",\n",
    "    \"https://raw.githubusercontent.com/natebuel29/cd0461-building-computer-vision-solutions-with-azure-project-starter/master/starter/digital_id_template/ca-dl-james-jackson.png\",\n",
    "    \"https://raw.githubusercontent.com/natebuel29/cd0461-building-computer-vision-solutions-with-azure-project-starter/master/starter/digital_id_template/ca-dl-james-webb.png\"\n",
    "]"
   ]
  },
  {
   "cell_type": "code",
   "execution_count": 35,
   "metadata": {},
   "outputs": [],
   "source": [
    "def print_id_card_details(identity_card):\n",
    "    first_name = identity_card.fields.get(\"FirstName\")\n",
    "    if first_name:\n",
    "        print(\"First Name: {} has confidence: {}\".format(first_name.value, first_name.confidence))\n",
    "    last_name = identity_card.fields.get(\"LastName\")\n",
    "    if last_name:\n",
    "        print(\"Last Name: {} has confidence: {}\".format(last_name.value, last_name.confidence))\n",
    "    document_number = identity_card.fields.get(\"DocumentNumber\")\n",
    "    if document_number:\n",
    "        print(\"Document Number: {} has confidence: {}\".format(document_number.value, document_number.confidence))\n",
    "    dob = identity_card.fields.get(\"DateOfBirth\")\n",
    "    if dob:\n",
    "        print(\"Date of Birth: {} has confidence: {}\".format(dob.value, dob.confidence))\n",
    "    doe = identity_card.fields.get(\"DateOfExpiration\")\n",
    "    if doe:\n",
    "        print(\"Date of Expiration: {} has confidence: {}\".format(doe.value, doe.confidence))\n",
    "    sex = identity_card.fields.get(\"Sex\")\n",
    "    if sex:\n",
    "        print(\"Sex: {} has confidence: {}\".format(sex.value, sex.confidence))\n",
    "    address = identity_card.fields.get(\"Address\")\n",
    "    if address:\n",
    "        print(\"Address: {} has confidence: {}\".format(address.value, address.confidence))\n",
    "    country_region = identity_card.fields.get(\"CountryRegion\")\n",
    "    if country_region:\n",
    "        print(\"Country/Region: {} has confidence: {}\".format(country_region.value, country_region.confidence))\n",
    "    region = identity_card.fields.get(\"Region\")\n",
    "    if region:\n",
    "        print(\"Region: {} has confidence: {}\".format(region.value, region.confidence))"
   ]
  },
  {
   "cell_type": "code",
   "execution_count": 36,
   "metadata": {},
   "outputs": [],
   "source": [
    "def extract_data_from_ids(form_recognizer_client,url_list):\n",
    "    for url in url_list:\n",
    "        id_content_from_url = form_recognizer_client.begin_recognize_identity_documents_from_url(url)\n",
    "        collected_id_cards = id_content_from_url.result()\n",
    "        print_id_card_details(collected_id_cards[0])"
   ]
  },
  {
   "cell_type": "code",
   "execution_count": 37,
   "metadata": {},
   "outputs": [
    {
     "name": "stdout",
     "output_type": "stream",
     "text": [
      "First Name: AVKASH CHAUHAN has confidence: 0.76\n",
      "Last Name: CHAUHAN has confidence: 0.883\n",
      "Document Number: D1234578 has confidence: 0.995\n",
      "Date of Birth: 1990-01-01 has confidence: 0.995\n",
      "Date of Expiration: 2025-01-01 has confidence: 0.992\n",
      "Sex: X has confidence: 0.161\n",
      "Address: 1234 Circle Ave, Apt 123 San Mateo, CA, 94401 has confidence: 0.585\n",
      "Country/Region: USA has confidence: 0.99\n",
      "Region: California has confidence: 0.984\n",
      "First Name: James has confidence: 0.822\n",
      "Last Name: Jackson has confidence: 0.843\n",
      "Document Number: D9753933 has confidence: 0.995\n",
      "Date of Birth: 1956-10-12 has confidence: 0.995\n",
      "Date of Expiration: 2027-02-20 has confidence: 0.993\n",
      "Sex: M has confidence: 0.984\n",
      "Country/Region: USA has confidence: 0.99\n",
      "Region: California has confidence: 0.99\n",
      "First Name: James has confidence: 0.408\n",
      "Last Name: Webb has confidence: 0.69\n",
      "Document Number: D4357789 has confidence: 0.995\n",
      "Date of Birth: 1970-12-15 has confidence: 0.995\n",
      "Date of Expiration: 2026-01-10 has confidence: 0.995\n",
      "Sex: M has confidence: 0.993\n",
      "Country/Region: USA has confidence: 0.99\n",
      "Region: California has confidence: 0.99\n"
     ]
    }
   ],
   "source": [
    "extract_data_from_ids(form_recognizer_client,content_url_list)"
   ]
  }
 ],
 "metadata": {
  "kernelspec": {
   "display_name": "Python 3",
   "language": "python",
   "name": "python3"
  },
  "language_info": {
   "codemirror_mode": {
    "name": "ipython",
    "version": 3
   },
   "file_extension": ".py",
   "mimetype": "text/x-python",
   "name": "python",
   "nbconvert_exporter": "python",
   "pygments_lexer": "ipython3",
   "version": "3.9.13"
  },
  "vscode": {
   "interpreter": {
    "hash": "909efed1f4f014065884b2a685617e78df05d5077867038456f1f8171d4c2a87"
   }
  }
 },
 "nbformat": 4,
 "nbformat_minor": 4
}
